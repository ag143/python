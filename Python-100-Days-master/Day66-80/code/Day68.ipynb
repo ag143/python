// 20220718161417
// https://raw.githubusercontent.com/ag143/python/master/Python-100-Days-master/Day66-80/code/Day68.ipynb

{
  "cells": [
    {
      "cell_type": "code",
      "execution_count": null,
      "source": [
        "import numpy as np\n",
        "import pandas as pd\n",
        "import matplotlib.pyplot as plt"
      ],
      "outputs": [
        
      ],
      "metadata": {
        
      }
    },
    {
      "cell_type": "code",
      "execution_count": null,
      "source": [
        "%matplotlib inline\n",
        "%config InlineBackend.figure_format='svg'"
      ],
      "outputs": [
        
      ],
      "metadata": {
        
      }
    },
    {
      "cell_type": "code",
      "execution_count": null,
      "source": [
        "plt.rcParams['font.sans-serif'] = 'FZJKai-Z03S'\n",
        "plt.rcParams['axes.unicode_minus'] = False"
      ],
      "outputs": [
        
      ],
      "metadata": {
        
      }
    },
    {
      "cell_type": "code",
      "execution_count": null,
      "source": [
        "ser1 = pd.Series(data=[320, 180, 300, 405], index=[' the first quarter ', 'the second quarter', 'third quater', 'the fourth quarter'])\n",
        "ser1"
      ],
      "outputs": [
        
      ],
      "metadata": {
        
      }
    },
    {
      "cell_type": "code",
      "execution_count": null,
      "source": [
        "ser2 = pd.Series({'the first quarter': 320, 'the second quarter': 180, 'third quater': 300, 'the fourth quarter': 405})\n",
        "ser2"
      ],
      "outputs": [
        
      ],
      "metadata": {
        
      }
    },
    {
      "cell_type": "code",
      "execution_count": null,
      "source": [
        "print(ser2[0], ser2[2], ser2[-1])\n",
        "ser2[0], ser2[-1] = 350, 360 \n",
        "print(ser2)"
      ],
      "outputs": [
        
      ],
      "metadata": {
        
      }
    },
    {
      "cell_type": "code",
      "execution_count": null,
      "source": [
        "print(ser2['the first quarter'], ser2['third quater'])\n",
        "ser2['the first quarter'] = 380\n",
        "print(ser2)"
      ],
      "outputs": [
        
      ],
      "metadata": {
        
      }
    },
    {
      "cell_type": "code",
      "execution_count": null,
      "source": [
        "print(ser2[1:3])\n",
        "print(ser2['the second quarter': 'the fourth quarter'])\n",
        "ser2[1:3] = 400, 500\n",
        "print(ser2)"
      ],
      "outputs": [
        
      ],
      "metadata": {
        
      }
    },
    {
      "cell_type": "code",
      "execution_count": null,
      "source": [
        "print(ser2[['the second quarter', 'the fourth quarter']])\n",
        "ser2[['the second quarter', 'the fourth quarter']] = 500, 520\n",
        "print(ser2)"
      ],
      "outputs": [
        
      ],
      "metadata": {
        
      }
    },
    {
      "cell_type": "code",
      "execution_count": null,
      "source": [
        "print(ser2[ser2 >= 500])"
      ],
      "outputs": [
        
      ],
      "metadata": {
        
      }
    },
    {
      "cell_type": "code",
      "execution_count": null,
      "source": [
        "# sum\n",
        "print(ser2.sum())\n",
        "# mean\n",
        "print(ser2.mean())\n",
        "# seek maximum\n",
        "print(ser2.max())\n",
        "#minimum\n",
        "print(ser2.min())\n",
        "# count\n",
        "print(ser2.count())\n",
        "# 求标准差\n",
        "print(ser2.std())\n",
        "# Find the variance\n",
        "print(ser2.var())\n",
        "# find the median\n",
        "print(ser2.median())"
      ],
      "outputs": [
        
      ],
      "metadata": {
        
      }
    },
    {
      "cell_type": "code",
      "execution_count": null,
      "source": [
        "ser2.describe()"
      ],
      "outputs": [
        
      ],
      "metadata": {
        
      }
    },
    {
      "cell_type": "code",
      "execution_count": null,
      "source": [
        "ser3 = pd.Series(data=['apple', 'banana', 'apple', 'pitaya', 'apple', 'pitaya', 'durian'])\n",
        "ser3.value_counts()"
      ],
      "outputs": [
        
      ],
      "metadata": {
        
      }
    },
    {
      "cell_type": "code",
      "execution_count": null,
      "source": [
        "ser4 = pd.Series(data=[10, 20, np.NaN, 30, np.NaN])\n",
        "ser4.dropna()"
      ],
      "outputs": [
        
      ],
      "metadata": {
        
      }
    },
    {
      "cell_type": "code",
      "execution_count": null,
      "source": [
        "ser4.fillna(value=40)"
      ],
      "outputs": [
        
      ],
      "metadata": {
        
      }
    },
    {
      "cell_type": "code",
      "execution_count": null,
      "source": [
        "ser4.fillna(method='ffill')"
      ],
      "outputs": [
        
      ],
      "metadata": {
        
      }
    }
  ],
  "metadata": {
    "kernelspec": {
      "display_name": "Python 3",
      "language": "python",
      "name": "python3"
    },
    "language_info": {
      "codemirror_mode": {
        "name": "ipython",
        "version": 3
      },
      "file_extension": ".py",
      "mimetype": "text/x-python",
      "name": "python",
      "nbconvert_exporter": "python",
      "pygments_lexer": "ipython3",
      "version": "3.7.7"
    },
    "toc": {
      "base_numbering": 1,
      "nav_menu": {
        
      },
      "number_sections": true,
      "sideBar": true,
      "skip_h1_title": false,
      "title_cell": "Table of Contents",
      "title_sidebar": "Contents",
      "toc_cell": false,
      "toc_position": {
        
      },
      "toc_section_display": true,
      "toc_window_display": false
    }
  },
  "nbformat": 4,
  "nbformat_minor": 2
}